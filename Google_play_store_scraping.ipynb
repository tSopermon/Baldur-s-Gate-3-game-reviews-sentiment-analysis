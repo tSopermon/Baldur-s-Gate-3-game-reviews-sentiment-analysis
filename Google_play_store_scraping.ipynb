{
 "cells": [
  {
   "cell_type": "markdown",
   "metadata": {},
   "source": [
    "The notebook run with Python 3.11.10"
   ]
  },
  {
   "cell_type": "code",
   "execution_count": 12,
   "metadata": {},
   "outputs": [],
   "source": [
    "# pip install google-play-scraper"
   ]
  },
  {
   "cell_type": "markdown",
   "metadata": {},
   "source": [
    "### We import the `google_play_scraper` library to scrape data from the Google Play Store"
   ]
  },
  {
   "cell_type": "markdown",
   "metadata": {},
   "source": [
    "### Getting the app id of the Application from the Play Store we want to fetch the reviews of.\n",
    "- For our project, we chose the app Webex to scrape the data from.\n",
    "- The app's link in the Play Store is `https://play.google.com/store/apps/details?id=com.cisco.wx2.android`, and we're going to use it's id `com.cisco.webex.meetings`."
   ]
  },
  {
   "cell_type": "code",
   "execution_count": 13,
   "metadata": {},
   "outputs": [],
   "source": [
    "app_id = 'com.cisco.webex.meetings'"
   ]
  },
  {
   "cell_type": "code",
   "execution_count": 14,
   "metadata": {},
   "outputs": [
    {
     "name": "stdout",
     "output_type": "stream",
     "text": [
      "Num GPUs Available:  1\n"
     ]
    }
   ],
   "source": [
    "import tensorflow as tf\n",
    "print(\"Num GPUs Available: \", len(tf.config.list_physical_devices('GPU')))"
   ]
  },
  {
   "cell_type": "markdown",
   "metadata": {},
   "source": [
    "### All the modules and libraries needed for scraping and processing the data."
   ]
  },
  {
   "cell_type": "code",
   "execution_count": 15,
   "metadata": {},
   "outputs": [],
   "source": [
    "from google_play_scraper import Sort\n",
    "from google_play_scraper.constants.element import ElementSpecs\n",
    "from google_play_scraper.constants.regex import Regex\n",
    "from google_play_scraper.constants.request import Formats\n",
    "from google_play_scraper.utils.request import post\n",
    "import pandas as pd\n",
    "from tqdm import tqdm\n",
    "import json\n",
    "from time import sleep\n",
    "from typing import List, Optional, Tuple"
   ]
  },
  {
   "cell_type": "markdown",
   "metadata": {},
   "source": [
    "### Setting the maximum number of reviews to fetch in each request to 199."
   ]
  },
  {
   "cell_type": "code",
   "execution_count": 16,
   "metadata": {},
   "outputs": [],
   "source": [
    "MAX_COUNT_EACH_FETCH = 199"
   ]
  },
  {
   "cell_type": "markdown",
   "metadata": {},
   "source": [
    "### Defining a class `_ContinuationToken` to manage the token used for paginating through reviews\n",
    "* **hardcoded-credentials** Embedding credentials in source code risks unauthorized access\n",
    "* GitHub source: https://github.com/JoMingyu/google-play-scraper/blob/master/google_play_scraper/features/reviews.py"
   ]
  },
  {
   "cell_type": "code",
   "execution_count": 17,
   "metadata": {},
   "outputs": [],
   "source": [
    "class _ContinuationToken:\n",
    "    __slots__ = (\n",
    "        \"token\",\n",
    "        \"lang\",\n",
    "        \"country\",\n",
    "        \"sort\",\n",
    "        \"count\",\n",
    "        \"filter_score_with\",\n",
    "        \"filter_device_with\",\n",
    "    )\n",
    "\n",
    "    def __init__(\n",
    "        self, token, lang, country, sort, count, filter_score_with, filter_device_with\n",
    "    ):\n",
    "        self.token = token\n",
    "        self.lang = lang\n",
    "        self.country = country\n",
    "        self.sort = sort\n",
    "        self.count = count\n",
    "        self.filter_score_with = filter_score_with\n",
    "        self.filter_device_with = filter_device_with"
   ]
  },
  {
   "cell_type": "markdown",
   "metadata": {},
   "source": [
    "### Defining a function `_fetch_review_items` that sends a POST request to fetch review items from the Google Play Store and parses the response\n",
    "GitHub source: https://github.com/JoMingyu/google-play-scraper/blob/master/google_play_scraper/features/reviews.py"
   ]
  },
  {
   "cell_type": "code",
   "execution_count": 18,
   "metadata": {},
   "outputs": [],
   "source": [
    "def _fetch_review_items(\n",
    "    url: str,\n",
    "    app_id: str,\n",
    "    sort: int,\n",
    "    count: int,\n",
    "    filter_score_with: Optional[int],\n",
    "    filter_device_with: Optional[int],\n",
    "    pagination_token: Optional[str],\n",
    "):\n",
    "    dom = post(\n",
    "        url,\n",
    "        Formats.Reviews.build_body(\n",
    "            app_id,\n",
    "            sort,\n",
    "            count,\n",
    "            \"null\" if filter_score_with is None else filter_score_with,\n",
    "            \"null\" if filter_device_with is None else filter_device_with,\n",
    "            pagination_token,\n",
    "        ),\n",
    "        {\"content-type\": \"application/x-www-form-urlencoded\"},\n",
    "    )\n",
    "    match = json.loads(Regex.REVIEWS.findall(dom)[0])\n",
    "\n",
    "    return json.loads(match[0][2])[0], json.loads(match[0][2])[-2][-1]"
   ]
  },
  {
   "cell_type": "markdown",
   "metadata": {},
   "source": [
    "### Defining a function `reviews` that fetches reviews for a given app ID, language, country, and other parameters. It handles pagination using the continuation token.\n",
    "GitHub source: https://github.com/JoMingyu/google-play-scraper/blob/master/google_play_scraper/features/reviews.py"
   ]
  },
  {
   "cell_type": "code",
   "execution_count": 19,
   "metadata": {},
   "outputs": [],
   "source": [
    "def reviews(\n",
    "    app_id: str,\n",
    "    lang: str = \"en\",\n",
    "    country: str = \"us\",\n",
    "    sort: Sort = Sort.MOST_RELEVANT,\n",
    "    count: int = 100,\n",
    "    filter_score_with: int = None,\n",
    "    filter_device_with: int = None,\n",
    "    continuation_token: _ContinuationToken = None,\n",
    ") -> Tuple[List[dict], _ContinuationToken]:\n",
    "    sort = sort.value\n",
    "\n",
    "    if continuation_token is not None:\n",
    "        token = continuation_token.token\n",
    "\n",
    "        if token is None:\n",
    "            return (\n",
    "                [],\n",
    "                continuation_token,\n",
    "            )\n",
    "\n",
    "        lang = continuation_token.lang\n",
    "        country = continuation_token.country\n",
    "        sort = continuation_token.sort\n",
    "        count = continuation_token.count\n",
    "        filter_score_with = continuation_token.filter_score_with\n",
    "        filter_device_with = continuation_token.filter_device_with\n",
    "    else:\n",
    "        token = None\n",
    "\n",
    "    url = Formats.Reviews.build(lang=lang, country=country)\n",
    "\n",
    "    _fetch_count = count\n",
    "\n",
    "    result = []\n",
    "\n",
    "    while True:\n",
    "        if _fetch_count == 0:\n",
    "            break\n",
    "\n",
    "        if _fetch_count > MAX_COUNT_EACH_FETCH:\n",
    "            _fetch_count = MAX_COUNT_EACH_FETCH\n",
    "\n",
    "        try:\n",
    "            review_items, token = _fetch_review_items(\n",
    "                url,\n",
    "                app_id,\n",
    "                sort,\n",
    "                _fetch_count,\n",
    "                filter_score_with,\n",
    "                filter_device_with,\n",
    "                token,\n",
    "            )\n",
    "        except (TypeError, IndexError):\n",
    "            #funnan MOD start\n",
    "            token = continuation_token.token\n",
    "            continue\n",
    "            #MOD end\n",
    "\n",
    "        for review in review_items:\n",
    "            result.append(\n",
    "                {\n",
    "                    k: spec.extract_content(review)\n",
    "                    for k, spec in ElementSpecs.Review.items()\n",
    "                }\n",
    "            )\n",
    "\n",
    "        _fetch_count = count - len(result)\n",
    "\n",
    "        if isinstance(token, list):\n",
    "            token = None\n",
    "            break\n",
    "\n",
    "    return (\n",
    "        result,\n",
    "        _ContinuationToken(\n",
    "            token, lang, country, sort, count, filter_score_with, filter_device_with\n",
    "        ),\n",
    "    )"
   ]
  },
  {
   "cell_type": "markdown",
   "metadata": {},
   "source": [
    "### Defining a function `reviews_all` that fetches all reviews for a given app ID by repeatedly calling the reviews function and handling pagination.\n",
    "GitHub source: https://github.com/JoMingyu/google-play-scraper/blob/master/google_play_scraper/features/reviews.py"
   ]
  },
  {
   "cell_type": "code",
   "execution_count": 20,
   "metadata": {},
   "outputs": [],
   "source": [
    "def reviews_all(app_id: str, sleep_milliseconds: int = 0, **kwargs) -> list:\n",
    "    kwargs.pop(\"count\", None)\n",
    "    kwargs.pop(\"continuation_token\", None)\n",
    "\n",
    "    continuation_token = None\n",
    "\n",
    "    result = []\n",
    "\n",
    "    while True:\n",
    "        _result, continuation_token = reviews(\n",
    "            app_id,\n",
    "            count=MAX_COUNT_EACH_FETCH,\n",
    "            continuation_token=continuation_token,\n",
    "            **kwargs\n",
    "        )\n",
    "\n",
    "        result += _result\n",
    "\n",
    "        if continuation_token.token is None:\n",
    "            break\n",
    "\n",
    "        if sleep_milliseconds:\n",
    "            sleep(sleep_milliseconds / 1000)\n",
    "\n",
    "    return result"
   ]
  },
  {
   "cell_type": "markdown",
   "metadata": {},
   "source": [
    "### The target number of reviews to fetch"
   ]
  },
  {
   "cell_type": "code",
   "execution_count": 21,
   "metadata": {},
   "outputs": [],
   "source": [
    "reviews_count = 30000"
   ]
  },
  {
   "cell_type": "markdown",
   "metadata": {},
   "source": [
    "* ### Initializing an empty list `result` and a `continuation_token`.\n",
    "* ### Then we use a `tqdm` progress bar  to fetch revies in a loop until the target number of reviews is reached. The results are appened to the `result` list.\n",
    "GitHub source: https://github.com/tqdm/tqdm"
   ]
  },
  {
   "cell_type": "code",
   "execution_count": 22,
   "metadata": {},
   "outputs": [
    {
     "name": "stderr",
     "output_type": "stream",
     "text": [
      "  0%|          | 0/30000 [00:00<?, ?it/s]"
     ]
    },
    {
     "name": "stderr",
     "output_type": "stream",
     "text": [
      "30049it [02:31, 198.66it/s]                           \n"
     ]
    }
   ],
   "source": [
    "result = []\n",
    "continuation_token = None\n",
    "\n",
    "\n",
    "with tqdm(total=reviews_count, position=0, leave=True) as pbar:\n",
    "    while len(result) < reviews_count:\n",
    "        new_result, continuation_token = reviews(\n",
    "            app_id,\n",
    "            continuation_token=continuation_token,\n",
    "            lang='en', #The language of review\n",
    "            country='us', #Country for which we want to scrape \n",
    "            sort=Sort.MOST_RELEVANT,\n",
    "            filter_score_with=None,\n",
    "            count=199 #No need to change this\n",
    "        )\n",
    "        if not new_result:\n",
    "            break\n",
    "        result.extend(new_result)\n",
    "        pbar.update(len(new_result))"
   ]
  },
  {
   "cell_type": "markdown",
   "metadata": {},
   "source": [
    "### We convert the `result` list into a pandas DataFrame  for easier manipulation and analysis"
   ]
  },
  {
   "cell_type": "code",
   "execution_count": 23,
   "metadata": {},
   "outputs": [],
   "source": [
    "df = pd.DataFrame(result)"
   ]
  },
  {
   "cell_type": "markdown",
   "metadata": {},
   "source": [
    "### Displaying the columns of the DataFrame."
   ]
  },
  {
   "cell_type": "code",
   "execution_count": 24,
   "metadata": {},
   "outputs": [
    {
     "data": {
      "text/plain": [
       "Index(['reviewId', 'userName', 'userImage', 'content', 'score',\n",
       "       'thumbsUpCount', 'reviewCreatedVersion', 'at', 'replyContent',\n",
       "       'repliedAt', 'appVersion'],\n",
       "      dtype='object')"
      ]
     },
     "execution_count": 24,
     "metadata": {},
     "output_type": "execute_result"
    }
   ],
   "source": [
    "df.columns"
   ]
  },
  {
   "cell_type": "markdown",
   "metadata": {},
   "source": [
    "### We select specific columns from the DataFrame to keep more relevant information."
   ]
  },
  {
   "cell_type": "code",
   "execution_count": 25,
   "metadata": {},
   "outputs": [],
   "source": [
    "df = df[['reviewId', 'userName', 'content', 'score', 'thumbsUpCount', 'reviewCreatedVersion', 'at', 'appVersion']]"
   ]
  },
  {
   "cell_type": "code",
   "execution_count": 26,
   "metadata": {},
   "outputs": [
    {
     "data": {
      "text/html": [
       "<div>\n",
       "<style scoped>\n",
       "    .dataframe tbody tr th:only-of-type {\n",
       "        vertical-align: middle;\n",
       "    }\n",
       "\n",
       "    .dataframe tbody tr th {\n",
       "        vertical-align: top;\n",
       "    }\n",
       "\n",
       "    .dataframe thead th {\n",
       "        text-align: right;\n",
       "    }\n",
       "</style>\n",
       "<table border=\"1\" class=\"dataframe\">\n",
       "  <thead>\n",
       "    <tr style=\"text-align: right;\">\n",
       "      <th></th>\n",
       "      <th>reviewId</th>\n",
       "      <th>userName</th>\n",
       "      <th>content</th>\n",
       "      <th>score</th>\n",
       "      <th>thumbsUpCount</th>\n",
       "      <th>reviewCreatedVersion</th>\n",
       "      <th>at</th>\n",
       "      <th>appVersion</th>\n",
       "    </tr>\n",
       "  </thead>\n",
       "  <tbody>\n",
       "    <tr>\n",
       "      <th>0</th>\n",
       "      <td>56598e3f-86f2-44ff-a561-4f6d58eb7173</td>\n",
       "      <td>Wendy Rowe</td>\n",
       "      <td>This is my second time trying it on my Android...</td>\n",
       "      <td>1</td>\n",
       "      <td>6</td>\n",
       "      <td>44.9.1</td>\n",
       "      <td>2024-10-16 18:12:56</td>\n",
       "      <td>44.9.1</td>\n",
       "    </tr>\n",
       "    <tr>\n",
       "      <th>1</th>\n",
       "      <td>06fd6a83-ea69-4a75-af45-93f62e4adc27</td>\n",
       "      <td>Robert Jim Fulner</td>\n",
       "      <td>My company recently update the version of the ...</td>\n",
       "      <td>3</td>\n",
       "      <td>12</td>\n",
       "      <td>44.7.1</td>\n",
       "      <td>2024-08-18 15:18:44</td>\n",
       "      <td>44.7.1</td>\n",
       "    </tr>\n",
       "    <tr>\n",
       "      <th>2</th>\n",
       "      <td>7c9e80a3-8d54-4c4e-be76-1a045bb4f73c</td>\n",
       "      <td>Pthom Thompson</td>\n",
       "      <td>Display icons on the screen that do not have l...</td>\n",
       "      <td>3</td>\n",
       "      <td>8</td>\n",
       "      <td>44.7.0</td>\n",
       "      <td>2024-07-19 16:40:28</td>\n",
       "      <td>44.7.0</td>\n",
       "    </tr>\n",
       "    <tr>\n",
       "      <th>3</th>\n",
       "      <td>bb2c1106-fd82-4650-91b3-1c17616fe61c</td>\n",
       "      <td>A Google user</td>\n",
       "      <td>Rough, to say the least. Still, my cell was ul...</td>\n",
       "      <td>3</td>\n",
       "      <td>19</td>\n",
       "      <td>39.4.0</td>\n",
       "      <td>2019-06-14 20:40:45</td>\n",
       "      <td>39.4.0</td>\n",
       "    </tr>\n",
       "    <tr>\n",
       "      <th>4</th>\n",
       "      <td>de6c508b-7600-4804-81e4-9d647713272f</td>\n",
       "      <td>Holly Hill</td>\n",
       "      <td>This app worked very well for me. Clear video ...</td>\n",
       "      <td>5</td>\n",
       "      <td>122</td>\n",
       "      <td>44.4.0</td>\n",
       "      <td>2024-05-06 19:10:51</td>\n",
       "      <td>44.4.0</td>\n",
       "    </tr>\n",
       "  </tbody>\n",
       "</table>\n",
       "</div>"
      ],
      "text/plain": [
       "                               reviewId           userName  \\\n",
       "0  56598e3f-86f2-44ff-a561-4f6d58eb7173         Wendy Rowe   \n",
       "1  06fd6a83-ea69-4a75-af45-93f62e4adc27  Robert Jim Fulner   \n",
       "2  7c9e80a3-8d54-4c4e-be76-1a045bb4f73c     Pthom Thompson   \n",
       "3  bb2c1106-fd82-4650-91b3-1c17616fe61c      A Google user   \n",
       "4  de6c508b-7600-4804-81e4-9d647713272f         Holly Hill   \n",
       "\n",
       "                                             content  score  thumbsUpCount  \\\n",
       "0  This is my second time trying it on my Android...      1              6   \n",
       "1  My company recently update the version of the ...      3             12   \n",
       "2  Display icons on the screen that do not have l...      3              8   \n",
       "3  Rough, to say the least. Still, my cell was ul...      3             19   \n",
       "4  This app worked very well for me. Clear video ...      5            122   \n",
       "\n",
       "  reviewCreatedVersion                  at appVersion  \n",
       "0               44.9.1 2024-10-16 18:12:56     44.9.1  \n",
       "1               44.7.1 2024-08-18 15:18:44     44.7.1  \n",
       "2               44.7.0 2024-07-19 16:40:28     44.7.0  \n",
       "3               39.4.0 2019-06-14 20:40:45     39.4.0  \n",
       "4               44.4.0 2024-05-06 19:10:51     44.4.0  "
      ]
     },
     "execution_count": 26,
     "metadata": {},
     "output_type": "execute_result"
    }
   ],
   "source": [
    "df.head()"
   ]
  },
  {
   "cell_type": "markdown",
   "metadata": {},
   "source": [
    "### Saving the DataFrame to a CSV file named after the app ID."
   ]
  },
  {
   "cell_type": "code",
   "execution_count": 27,
   "metadata": {},
   "outputs": [],
   "source": [
    "df.to_csv(f'{app_id}_reviews.csv', index=False)"
   ]
  }
 ],
 "metadata": {
  "kernelspec": {
   "display_name": "Python 3",
   "language": "python",
   "name": "python3"
  },
  "language_info": {
   "codemirror_mode": {
    "name": "ipython",
    "version": 3
   },
   "file_extension": ".py",
   "mimetype": "text/x-python",
   "name": "python",
   "nbconvert_exporter": "python",
   "pygments_lexer": "ipython3",
   "version": "3.10.16"
  }
 },
 "nbformat": 4,
 "nbformat_minor": 2
}
